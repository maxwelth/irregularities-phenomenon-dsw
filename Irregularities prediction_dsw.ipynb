{
  "nbformat": 4,
  "nbformat_minor": 0,
  "metadata": {
    "colab": {
      "name": "uhuy_final1.ipynb",
      "provenance": [],
      "collapsed_sections": []
    },
    "kernelspec": {
      "display_name": "Python 3",
      "language": "python",
      "name": "python3"
    },
    "language_info": {
      "codemirror_mode": {
        "name": "ipython",
        "version": 3
      },
      "file_extension": ".py",
      "mimetype": "text/x-python",
      "name": "python",
      "nbconvert_exporter": "python",
      "pygments_lexer": "ipython3",
      "version": "3.8.5"
    }
  },
  "cells": [
    {
      "cell_type": "markdown",
      "metadata": {
        "id": "q4jDZ1mhkije"
      },
      "source": [
        "#### [Tugas Metstat Mana] - Maxwell Thomson\n",
        "### Import Library"
      ]
    },
    {
      "cell_type": "code",
      "metadata": {
        "colab": {
          "base_uri": "https://localhost:8080/"
        },
        "id": "r06czk82kh78",
        "outputId": "edc4f3f8-7399-4c17-b4f9-214d06cb6e24"
      },
      "source": [
        "!pip install s2cell\n",
        "import s2cell\n",
        "from datetime import datetime\n",
        "import pytz\n",
        "\n",
        "import pandas as pd\n",
        "import numpy as np\n",
        "import matplotlib.pyplot as plt\n",
        "import matplotlib\n",
        "import seaborn as sns\n",
        "%matplotlib inline\n",
        "\n",
        "import sklearn\n",
        "from imblearn.over_sampling import SMOTE\n",
        "from sklearn.cluster import KMeans \n",
        "from sklearn.feature_selection import RFECV\n",
        "from sklearn.ensemble import RandomForestClassifier\n",
        "from sklearn.neighbors import KNeighborsClassifier\n",
        "from sklearn.naive_bayes import GaussianNB\n",
        "from sklearn.linear_model import LogisticRegression\n",
        "from sklearn.preprocessing import  LabelEncoder, StandardScaler\n",
        "from sklearn.model_selection import train_test_split, cross_val_score, GridSearchCV, StratifiedKFold\n",
        "from sklearn.svm import SVC\n",
        "from sklearn.metrics import f1_score, accuracy_score, classification_report\n",
        "from sklearn.decomposition import PCA\n",
        "from xgboost import XGBClassifier\n",
        "from sklearn.tree import DecisionTreeClassifier\n",
        "import warnings\n",
        "warnings.filterwarnings(\"ignore\")"
      ],
      "execution_count": null,
      "outputs": [
        {
          "output_type": "stream",
          "text": [
            "Collecting s2cell\n",
            "  Downloading https://files.pythonhosted.org/packages/98/ea/3afce19dc88e6ea10d6b3b6ddfcd3c7af387e9d246158cc8f3b90aa4a546/s2cell-1.4.0-py3-none-any.whl\n",
            "Installing collected packages: s2cell\n",
            "Successfully installed s2cell-1.4.0\n"
          ],
          "name": "stdout"
        },
        {
          "output_type": "stream",
          "text": [
            "/usr/local/lib/python3.7/dist-packages/sklearn/externals/six.py:31: FutureWarning: The module is deprecated in version 0.21 and will be removed in version 0.23 since we've dropped support for Python 2.7. Please rely on the official version of six (https://pypi.org/project/six/).\n",
            "  \"(https://pypi.org/project/six/).\", FutureWarning)\n",
            "/usr/local/lib/python3.7/dist-packages/sklearn/utils/deprecation.py:144: FutureWarning: The sklearn.neighbors.base module is  deprecated in version 0.22 and will be removed in version 0.24. The corresponding classes / functions should instead be imported from sklearn.neighbors. Anything that cannot be imported from sklearn.neighbors is now part of the private API.\n",
            "  warnings.warn(message, FutureWarning)\n"
          ],
          "name": "stderr"
        }
      ]
    },
    {
      "cell_type": "markdown",
      "metadata": {
        "id": "j_6zRnzflGgv"
      },
      "source": [
        "### Data pre-processing"
      ]
    },
    {
      "cell_type": "code",
      "metadata": {
        "id": "QJ5y4AH-mpxI"
      },
      "source": [
        "def s2_kota(a):\n",
        "    lat = s2cell.cell_id_to_lat_lon(s2cell.token_to_cell_id('{}'.format(a)))[0]\n",
        "    long = s2cell.cell_id_to_lat_lon(s2cell.token_to_cell_id('{}'.format(a)))[1]\n",
        "    return pd.Series([lat,long],index=['lat','long'])"
      ],
      "execution_count": null,
      "outputs": []
    },
    {
      "cell_type": "markdown",
      "metadata": {
        "id": "-N4mIZ4em3UU"
      },
      "source": [
        "#### Train-Test"
      ]
    },
    {
      "cell_type": "code",
      "metadata": {
        "id": "WskExch5SIGI"
      },
      "source": [
        "url = 'https://raw.githubusercontent.com/maxwelth/irregularities-phenomenon-dsw/main/data/data_train.csv'\n",
        "url2 = 'https://raw.githubusercontent.com/maxwelth/irregularities-phenomenon-dsw/main/data/data_test.csv'\n",
        "df1 = pd.read_csv(url)\n",
        "df2 = pd.read_csv(url2)\n",
        "\n",
        "\n",
        "def pre_step(x):\n",
        "    x[['s2','date','hour']] = x.Ids.str.split('_',2).tolist()\n",
        "    x.drop(columns=['Ids'],inplace=True)\n",
        "    x['date'] = x['date'].astype('datetime64[ns]')\n",
        "    x['day_week'] = x['date'].dt.dayofweek\n",
        "    x['day_week_name'] = x['date'].dt.day_name()\n",
        "    x['is_weekend'] = np.where(x['day_week_name'].isin(['Sunday','Saturday']), 1, 0)\n",
        "    x = x.drop(columns=['day_week_name'])\n",
        "    x[['lat','long']] = x['s2'].apply(lambda x : s2_kota(x))\n",
        "    return x\n",
        "\n",
        "df1 = pre_step(df1)\n",
        "df2 = pre_step(df2)\n",
        "\n",
        "le = LabelEncoder()\n",
        "df['Labels'] = le.fit_transform(df['Labels'])\n",
        "df2 = df2.drop(columns=['date'])\n",
        "df1 = df1.drop(columns=['day_week'])"
      ],
      "execution_count": null,
      "outputs": []
    },
    {
      "cell_type": "code",
      "metadata": {
        "colab": {
          "base_uri": "https://localhost:8080/",
          "height": 351
        },
        "id": "UsyumXreet-8",
        "outputId": "3449d5e2-d109-4cc1-9e96-30b69b5416cf"
      },
      "source": [
        "fig = plt.figure(figsize=(10,5))\n",
        "cmap=plt.cm.rainbow\n",
        "norm = matplotlib.colors.BoundaryNorm(np.arange(0,10,1), cmap.N)\n",
        "plt.scatter(df1['long'], df1['lat'],\n",
        "            cmap=cmap, norm=norm, s=5, edgecolor='none')\n",
        "plt.xlim(106.6, 107.8)\n",
        "plt.ylim(-7, -6)\n",
        "plt.xlabel('Latitude', fontsize=10)\n",
        "plt.ylabel('Longitude', fontsize=10)\n",
        "plt.title('71336 Train Data - Lat/Long', fontsize=14)\n",
        "plt.grid()\n",
        "plt.show()"
      ],
      "execution_count": null,
      "outputs": [
        {
          "output_type": "display_data",
          "data": {
            "image/png": "[encoded data removed]",
            "text/plain": [
              "<Figure size 720x360 with 1 Axes>"
            ]
          },
          "metadata": {
            "tags": [],
            "needs_background": "light"
          }
        }
      ]
    },
    {
      "cell_type": "code",
      "metadata": {
        "id": "eUMeV4DmmGwv"
      },
      "source": [
        "kmeans = KMeans(n_clusters=4)\n",
        "kmeans.fit(df1[['lat','long']].values)\n",
        "predictions = kmeans.predict(df1[['lat','long']].values)\n",
        "clustered = pd.concat([df1.reset_index(), pd.DataFrame({'Cluster':predictions})], axis=1)\n",
        "clustered_first = clustered.drop(columns=['index','s2','date','lat','long'])\n",
        "\n",
        "predictions1 = kmeans.predict(df2[['lat','long']].values)\n",
        "clustered2 = pd.concat([df2.reset_index(), pd.DataFrame({'Cluster':predictions1})], axis=1)\n",
        "clustered2_first = clustered2.drop(columns=['index','s2','day_week','lat','long'])"
      ],
      "execution_count": null,
      "outputs": []
    },
    {
      "cell_type": "code",
      "metadata": {
        "colab": {
          "base_uri": "https://localhost:8080/",
          "height": 294
        },
        "id": "6aGY3coS-4kl",
        "outputId": "0dfede9f-c232-463b-ea46-7f1c406cfda1"
      },
      "source": [
        "pd.crosstab(clustered_first['Cluster'],clustered_first['Labels']).plot.bar()"
      ],
      "execution_count": null,
      "outputs": [
        {
          "output_type": "execute_result",
          "data": {
            "text/plain": [
              "<matplotlib.axes._subplots.AxesSubplot at 0x7f7d98f306d0>"
            ]
          },
          "metadata": {
            "tags": []
          },
          "execution_count": 34
        },
        {
          "output_type": "display_data",
          "data": {
            "image/png": "[encoded data removed]",
            "text/plain": [
              "<Figure size 432x288 with 1 Axes>"
            ]
          },
          "metadata": {
            "tags": [],
            "needs_background": "light"
          }
        }
      ]
    },
    {
      "cell_type": "code",
      "metadata": {
        "colab": {
          "base_uri": "https://localhost:8080/",
          "height": 405
        },
        "id": "RGEG_oiIh17b",
        "outputId": "33241195-599f-42dd-945c-4841cf91f570"
      },
      "source": [
        "fig = plt.figure(figsize=(12,6))\n",
        "cmap=plt.cm.rainbow\n",
        "norm = matplotlib.colors.BoundaryNorm(np.arange(0,5,1), cmap.N)\n",
        "plt.scatter(clustered['long'], clustered['lat'], c=clustered['Cluster'],\n",
        "            cmap=cmap, norm=norm, s=5, edgecolor='none')\n",
        "plt.colorbar(ticks=np.linspace(0,3,4))\n",
        "centers = kmeans.cluster_centers_\n",
        "plt.scatter(centers[:, 0], centers[:, 1], c='black', s=100, alpha=0.3);\n",
        "plt.xlim(106.6, 107.8)\n",
        "plt.ylim(-7, -6)\n",
        "plt.xlabel('Latitude', fontsize=10)\n",
        "plt.ylabel('Longitude', fontsize=10)\n",
        "plt.title('k-means clustering results (n_clusters=4)', fontsize=14)\n",
        "plt.grid()\n",
        "plt.show()"
      ],
      "execution_count": null,
      "outputs": [
        {
          "output_type": "display_data",
          "data": {
            "image/png": "[encoded data removed]",
            "text/plain": [
              "<Figure size 864x432 with 2 Axes>"
            ]
          },
          "metadata": {
            "tags": [],
            "needs_background": "light"
          }
        }
      ]
    },
    {
      "cell_type": "markdown",
      "metadata": {
        "id": "ntBmfOm_m6wU"
      },
      "source": [
        "#### Alerts"
      ]
    },
    {
      "cell_type": "code",
      "metadata": {
        "id": "FmQJwngPm75S"
      },
      "source": [
        "#use_cols = ['pub_millis','s2token_15','road_type','city','magvar','reliability','report_rating','confidence', 'type']\n",
        "#alerts =pd.read_csv('alerts.csv', usecols=use_cols)\n",
        "#alerts = alerts.drop_duplicates()\n",
        "#alerts.to_csv('alerts_clean.csv',index=False)\n",
        "\n",
        "alerts = pd.read_csv('https://raw.githubusercontent.com/maxwelth/irregularities-phenomenon-dsw/main/data/alerts_clean.csv')\n",
        "alerts['waktu']=alerts['pub_millis'].apply(lambda x: datetime.utcfromtimestamp(int(x)/1000).astimezone(pytz.timezone(\"Asia/Bangkok\")).strftime('%Y-%m-%d_%H'))\n",
        "alerts = alerts.drop(columns=['pub_millis'])\n",
        "alerts[['date','hour']] = alerts.waktu.str.split('_',1).tolist()\n",
        "alerts['date'] = alerts['date'].astype('datetime64[ns]')\n",
        "alerts['day_week'] = alerts['date'].dt.dayofweek\n",
        "alerts = alerts.drop_duplicates()\n",
        "\n",
        "alertss = alerts.copy()    #train\n",
        "alertsst = alerts.copy()   #test"
      ],
      "execution_count": null,
      "outputs": []
    },
    {
      "cell_type": "markdown",
      "metadata": {
        "id": "kS1xutlgnM8i"
      },
      "source": [
        "### Split into two data sets"
      ]
    },
    {
      "cell_type": "markdown",
      "metadata": {
        "id": "q9SbYHomWzGH"
      },
      "source": [
        "#### a) Train"
      ]
    },
    {
      "cell_type": "code",
      "metadata": {
        "id": "AOXF-xQOodzX"
      },
      "source": [
        "clustered['lookup1'] = clustered['s2'] + clustered['date'].astype(str) + \"_\" + clustered['hour'].astype(str)\n",
        "alertss['lookup1'] =  alertss['s2token_15'] + alertss['date'].astype(str) + \"_\" + alertss['hour'].astype(str)"
      ],
      "execution_count": null,
      "outputs": []
    },
    {
      "cell_type": "code",
      "metadata": {
        "id": "6dJBhiYvolYc"
      },
      "source": [
        "data_trainn_yes1=clustered.loc[clustered['lookup1'].isin(alertss['lookup1'])]\n",
        "data_trainn_non1=clustered.loc[~clustered.index.isin(data_trainn_yes1.index)]"
      ],
      "execution_count": null,
      "outputs": []
    },
    {
      "cell_type": "code",
      "metadata": {
        "id": "B-XlbkFXomsP"
      },
      "source": [
        "alertsf = alertss.drop_duplicates(subset=['lookup1'])\n",
        "s1 = pd.merge(data_trainn_yes1, alertsf, how='inner', on=['lookup1'])\n",
        "s1 = s1.drop(columns=['s2','s2token_15','date_x','hour_x','lookup1','waktu','day_week','date_y','city'])\n",
        "s1 = s1.set_index(data_trainn_yes1.index)   #s1 = data_trainn_yes1"
      ],
      "execution_count": null,
      "outputs": []
    },
    {
      "cell_type": "markdown",
      "metadata": {
        "id": "ZM365qOApIMj"
      },
      "source": [
        "#### b) Test"
      ]
    },
    {
      "cell_type": "code",
      "metadata": {
        "id": "VM5-S0C9pMSg"
      },
      "source": [
        "clustered2['lookup1'] = clustered2['s2']  + \"_\" + clustered2['hour'].astype(str) + \"_\" + clustered2['day_week'].astype(str)\n",
        "alertsst['lookup1'] = alertsst['s2token_15'] + \"_\" + alertsst['hour'].astype(str) + \"_\" + alertsst['day_week'].astype(str)"
      ],
      "execution_count": null,
      "outputs": []
    },
    {
      "cell_type": "code",
      "metadata": {
        "id": "EadhkbhZpRAe"
      },
      "source": [
        "data_testt_yes1=clustered2.loc[clustered2['lookup1'].isin(alertsst['lookup1'])]\n",
        "data_testt_non1=clustered2.loc[~clustered2.index.isin(data_testt_yes1.index)]"
      ],
      "execution_count": null,
      "outputs": []
    },
    {
      "cell_type": "code",
      "metadata": {
        "id": "7f1QRhK6pSmB"
      },
      "source": [
        "alertsft = alertsst.drop_duplicates(subset=['lookup1'])\n",
        "s2 = pd.merge(data_testt_yes1, alertsft, how='inner', on=['lookup1'])\n",
        "s2 = s2.drop(columns=['s2','s2token_15','hour_x','day_week_x','lookup1','city','waktu','day_week_y','date'])\n",
        "s2 = s2.set_index(data_testt_yes1.index) "
      ],
      "execution_count": null,
      "outputs": []
    },
    {
      "cell_type": "markdown",
      "metadata": {
        "id": "EJXMvu0XXUn3"
      },
      "source": [
        "#### label viz"
      ]
    },
    {
      "cell_type": "code",
      "metadata": {
        "id": "OvI1PbKqnAa5"
      },
      "source": [
        "awo_list = [[s1.shape[0],s2.shape[0]], [data_trainn_non1.shape[0],data_testt_non1.shape[0]],[clustered.shape[0],data_testt_non1.shape[0]]]\n",
        "awo_df = pd.DataFrame(awo_list, columns=['train size', 'test size'])\n",
        "awo_df['label']= pd.DataFrame(['Train + Alerts','Train only - 1','Train only - 2(after)'])\n",
        "awo_df = awo_df.reindex(columns=['label','train size','test size'])\n",
        "awo_df = awo_df.set_index('label')"
      ],
      "execution_count": null,
      "outputs": []
    },
    {
      "cell_type": "code",
      "metadata": {
        "colab": {
          "base_uri": "https://localhost:8080/",
          "height": 553
        },
        "id": "zzW76nkt2Yk7",
        "outputId": "c6be5a58-5e8c-4527-80f2-1499fd03d5d5"
      },
      "source": [
        "fig = plt.figure(figsize=(12,9))\n",
        "namaa = ['Train data', 'Test data']\n",
        "for i, (name, row) in enumerate(awo_df.iterrows()):\n",
        "    ax = plt.subplot(2,2, i+1)\n",
        "    ax.set_title(row.name)\n",
        "    #ax.get_xaxis().set_visible(False)\n",
        "    ax.set_xticklabels(namaa)\n",
        "    awo_df.iloc[i].plot.bar(color=['C0', 'C1'])\n",
        "    plt.xticks(rotation=0)\n",
        "\n",
        "#fig.legend(ax.bar([0,0],[0,0], color=['C0','C1']),['Train data','Test data'], loc=5)\n",
        "plt.show()"
      ],
      "execution_count": null,
      "outputs": [
        {
          "output_type": "display_data",
          "data": {
            "image/png": "[encoded data removed]",
            "text/plain": [
              "<Figure size 864x648 with 3 Axes>"
            ]
          },
          "metadata": {
            "tags": [],
            "needs_background": "light"
          }
        }
      ]
    },
    {
      "cell_type": "code",
      "metadata": {
        "colab": {
          "base_uri": "https://localhost:8080/",
          "height": 297
        },
        "id": "GqfKZNqw1F7z",
        "outputId": "1608d8be-8a81-4d4a-a159-5f196faa5837"
      },
      "source": [
        "labels = ['False', 'True']\n",
        "sizes = [100*(data_trainn_yes1['Labels'].value_counts()[0]/data_trainn_yes1['Labels'].value_counts().sum()), 100*(data_trainn_yes1['Labels'].value_counts()[1]/data_trainn_yes1['Labels'].value_counts().sum())]\n",
        "colors = ['#ff9999','#66b3ff']\n",
        " \n",
        "fig1, ax1 = plt.subplots()\n",
        "ax1.pie(sizes, colors = colors, labels=labels, autopct='%1.1f%%', startangle=90)\n",
        "ax1.set_title('Label - Train + ALerts (40285 data)')\n",
        "centre_circle = plt.Circle((0,0),0.75,fc='White')\n",
        "\n",
        "fig = plt.gcf()\n",
        "fig.gca().add_artist(centre_circle)\n",
        "ax1.axis('equal')  \n",
        "plt.tight_layout()\n",
        "plt.show()"
      ],
      "execution_count": null,
      "outputs": [
        {
          "output_type": "display_data",
          "data": {
            "image/png": "[encoded data removed]",
            "text/plain": [
              "<Figure size 432x288 with 1 Axes>"
            ]
          },
          "metadata": {
            "tags": []
          }
        }
      ]
    },
    {
      "cell_type": "markdown",
      "metadata": {
        "id": "OP7eYtxCpqhS"
      },
      "source": [
        "### Data Modelling"
      ]
    },
    {
      "cell_type": "markdown",
      "metadata": {
        "id": "7uypDsMnWs6n"
      },
      "source": [
        "#### a) Predict val data (without alerts information) "
      ]
    },
    {
      "cell_type": "code",
      "metadata": {
        "id": "0G_9DTqnprq7"
      },
      "source": [
        "datakita = pd.get_dummies(data=clustered_first, columns=['Cluster'], drop_first=True)\n",
        "# 80% train and 20% validation data\n",
        "X1_train, X1_test, y1_train, y1_test = train_test_split(datakita.drop(columns=['Labels']), datakita['Labels'], test_size=0.2, stratify=datakita['Labels'], random_state=42)"
      ],
      "execution_count": null,
      "outputs": []
    },
    {
      "cell_type": "code",
      "metadata": {
        "id": "SviKpp1hrMjF"
      },
      "source": [
        "tree_model = DecisionTreeClassifier(max_depth=3, random_state=0)\n",
        "tree_model.fit(X1_train['hour'].to_frame(), y1_train)\n",
        "X1_train['waktu_tree']=tree_model.predict_proba(X1_train['hour'].to_frame())[:,1] \n",
        "X1_train.drop(columns=['hour'],inplace=True)\n",
        "\n",
        "X1_test['waktu_tree'] =tree_model.predict_proba(X1_test['hour'].to_frame())[:,1]\n",
        "X1_test.drop(columns=['hour'],inplace=True)"
      ],
      "execution_count": null,
      "outputs": []
    },
    {
      "cell_type": "code",
      "metadata": {
        "colab": {
          "base_uri": "https://localhost:8080/"
        },
        "id": "gjpv1NjdYjt8",
        "outputId": "5f679189-89d0-4ea7-cea1-069297eb19cd"
      },
      "source": [
        "X1_train['waktu_tree'].unique()"
      ],
      "execution_count": null,
      "outputs": [
        {
          "output_type": "execute_result",
          "data": {
            "text/plain": [
              "array([0.70123179, 0.66666667, 0.42245021, 0.63552124, 0.42115459,\n",
              "       0.3854506 , 0.18581907, 0.34042553])"
            ]
          },
          "metadata": {
            "tags": []
          },
          "execution_count": 52
        }
      ]
    },
    {
      "cell_type": "code",
      "metadata": {
        "id": "OrO4MuSHIjJn"
      },
      "source": [
        "smt = SMOTE(random_state=0)\n",
        "X1_train_SMOTE, y1_train_SMOTE = smt.fit_sample(X1_train, y1_train)\n",
        "\n",
        "rf = RandomForestClassifier()\n",
        "xgb = XGBClassifier()\n",
        "lr = LogisticRegression()\n",
        "nb = GaussianNB()\n",
        "knn = KNeighborsClassifier()\n",
        "svm = SVC()\n",
        "\n",
        "classifier1 = [rf,xgb,lr,nb,knn,svm]\n",
        "classifier1nama = ['rf','xgb','lr','nb','knn','svm']"
      ],
      "execution_count": null,
      "outputs": []
    },
    {
      "cell_type": "code",
      "metadata": {
        "colab": {
          "base_uri": "https://localhost:8080/"
        },
        "id": "gQ7CBmf6ZL9f",
        "outputId": "6a976729-6c5e-4a96-fc41-d92e179573af"
      },
      "source": [
        "for i,j in enumerate(classifier1):\n",
        "  j.fit(X1_train, y1_train)\n",
        "  y_pred = j.predict(X1_test)\n",
        "  efwan = f1_score(y1_test,y_pred, average='macro')\n",
        "  print(f\"{classifier1nama[i]}: {efwan}\")"
      ],
      "execution_count": null,
      "outputs": [
        {
          "output_type": "stream",
          "text": [
            "rf: 0.513117443436947\n",
            "xgb: 0.5155942613600771\n",
            "lr: 0.5323383757265499\n",
            "nb: 0.5322128432311622\n",
            "knn: 0.564636699501909\n",
            "svm: 0.5093653979761992\n"
          ],
          "name": "stdout"
        }
      ]
    },
    {
      "cell_type": "code",
      "metadata": {
        "colab": {
          "base_uri": "https://localhost:8080/"
        },
        "id": "o_P3xx-GMIPc",
        "outputId": "3acea631-54e8-4045-fb09-29372159e0a5"
      },
      "source": [
        "for i,j in enumerate(classifier1):\n",
        "  j.fit(X1_train_SMOTE, y1_train_SMOTE)\n",
        "  y_pred = j.predict(X1_test.values)\n",
        "  efwan = f1_score(y1_test,y_pred, average='macro')\n",
        "  print(f\"{classifier1nama[i]}: {efwan}\")"
      ],
      "execution_count": null,
      "outputs": [
        {
          "output_type": "stream",
          "text": [
            "rf: 0.5705035509663986\n",
            "xgb: 0.5734621793234234\n",
            "lr: 0.5673415802327819\n",
            "nb: 0.5337331304998119\n",
            "knn: 0.5617485841776972\n",
            "svm: 0.5616417657866745\n"
          ],
          "name": "stdout"
        }
      ]
    },
    {
      "cell_type": "code",
      "metadata": {
        "colab": {
          "base_uri": "https://localhost:8080/"
        },
        "id": "bfEjyC5bTeFQ",
        "outputId": "a07b900f-44ec-4f94-abf6-a66b73706789"
      },
      "source": [
        "param_test = {'max_depth':[7,9,11], 'min_samples_split':[7,9,11]}\n",
        "gsearch = GridSearchCV(estimator = RandomForestClassifier(n_estimators=100, class_weight='balanced', random_state=7), param_grid = param_test, scoring='f1_macro',n_jobs=-1, cv=5)\n",
        "gsearch.fit(X1_train_SMOTE, y1_train_SMOTE)\n",
        "gsearch.cv_results_['mean_test_score'], gsearch.cv_results_['params'], gsearch.best_params_, gsearch.best_score_"
      ],
      "execution_count": null,
      "outputs": [
        {
          "output_type": "execute_result",
          "data": {
            "text/plain": [
              "(array([0.54946843, 0.54946843, 0.54987715, 0.54926961, 0.54926961,\n",
              "        0.54926961, 0.54926961, 0.54926961, 0.54926961]),\n",
              " [{'max_depth': 7, 'min_samples_split': 7},\n",
              "  {'max_depth': 7, 'min_samples_split': 9},\n",
              "  {'max_depth': 7, 'min_samples_split': 11},\n",
              "  {'max_depth': 9, 'min_samples_split': 7},\n",
              "  {'max_depth': 9, 'min_samples_split': 9},\n",
              "  {'max_depth': 9, 'min_samples_split': 11},\n",
              "  {'max_depth': 11, 'min_samples_split': 7},\n",
              "  {'max_depth': 11, 'min_samples_split': 9},\n",
              "  {'max_depth': 11, 'min_samples_split': 11}],\n",
              " {'max_depth': 7, 'min_samples_split': 11},\n",
              " 0.5498771487678958)"
            ]
          },
          "metadata": {
            "tags": []
          },
          "execution_count": 25
        }
      ]
    },
    {
      "cell_type": "code",
      "metadata": {
        "colab": {
          "base_uri": "https://localhost:8080/"
        },
        "id": "z4H085-mTjbP",
        "outputId": "d8b6845f-d95a-4e03-84b2-b9bf84c77f11"
      },
      "source": [
        "param_test2r = {'min_samples_leaf':[7,9,11,13]}\n",
        "gsearch2r = GridSearchCV(estimator = RandomForestClassifier(n_estimators=100,max_depth= 9, min_samples_split= 11, class_weight='balanced', random_state=7), param_grid = param_test2r, scoring='f1_macro',n_jobs=-1, cv=5)\n",
        "gsearch2r.fit(X1_train_SMOTE, y1_train_SMOTE)\n",
        "gsearch2r.cv_results_['mean_test_score'], gsearch2r.cv_results_['params'], gsearch2r.best_params_, gsearch2r.best_score_"
      ],
      "execution_count": null,
      "outputs": [
        {
          "output_type": "execute_result",
          "data": {
            "text/plain": [
              "(array([0.54931383, 0.5494912 , 0.54946152, 0.54946152]),\n",
              " [{'min_samples_leaf': 7},\n",
              "  {'min_samples_leaf': 9},\n",
              "  {'min_samples_leaf': 11},\n",
              "  {'min_samples_leaf': 13}],\n",
              " {'min_samples_leaf': 9},\n",
              " 0.5494912007884507)"
            ]
          },
          "metadata": {
            "tags": []
          },
          "execution_count": 26
        }
      ]
    },
    {
      "cell_type": "code",
      "metadata": {
        "id": "UgTj6FUPUq5j"
      },
      "source": [
        "rf1 = RandomForestClassifier(min_samples_split=5, max_depth=9, n_estimators=100,min_samples_leaf= 11 , class_weight='balanced', random_state=7)"
      ],
      "execution_count": null,
      "outputs": []
    },
    {
      "cell_type": "code",
      "metadata": {
        "colab": {
          "base_uri": "https://localhost:8080/"
        },
        "id": "VdKOkfc6IiDz",
        "outputId": "acb3a395-9f64-4413-a43b-6346794b128c"
      },
      "source": [
        "rf1.fit(X1_train_SMOTE, y1_train_SMOTE)\n",
        "y_pred = rf1.predict(X1_test.values)\n",
        "print('rf tuned :', f1_score(y1_test,y_pred, average='macro'))"
      ],
      "execution_count": null,
      "outputs": [
        {
          "output_type": "stream",
          "text": [
            "rf tuned : 0.5705035509663986\n"
          ],
          "name": "stdout"
        }
      ]
    },
    {
      "cell_type": "markdown",
      "metadata": {
        "id": "Q22QtSxCSvjP"
      },
      "source": [
        "#### b) Predict val data (with alerts information)"
      ]
    },
    {
      "cell_type": "code",
      "metadata": {
        "id": "qkkgABWUKRot"
      },
      "source": [
        "# cardinal direction\n",
        "\n",
        "def mag(x):\n",
        "    if 0<=x<89:\n",
        "        return 'North'\n",
        "    elif 89<=x<179:\n",
        "        return 'East'\n",
        "    elif 179<=x<269:\n",
        "        return 'South'\n",
        "    elif 269<=x<361:\n",
        "        return 'West'"
      ],
      "execution_count": null,
      "outputs": []
    },
    {
      "cell_type": "code",
      "metadata": {
        "id": "aSEEQUxeVQrU"
      },
      "source": [
        "s1 = s1.drop(columns=['index','lat','long'])\n",
        "s1['magvar'] = s1['magvar'].apply(lambda x : mag(x))\n",
        "s1 = pd.get_dummies(data=s1, columns=['Cluster','magvar','type'], drop_first=True)"
      ],
      "execution_count": null,
      "outputs": []
    },
    {
      "cell_type": "code",
      "metadata": {
        "id": "zzlDu9xOWKt7"
      },
      "source": [
        "# 80% train and 20% validation data\n",
        "X2_train, X2_test, y2_train, y2_test = train_test_split(s1.drop(columns=['Labels']), s1['Labels'], test_size=0.2, stratify=s1['Labels'], random_state=42)"
      ],
      "execution_count": null,
      "outputs": []
    },
    {
      "cell_type": "code",
      "metadata": {
        "id": "OC43Pb_HWQlp"
      },
      "source": [
        "tree_models = DecisionTreeClassifier(max_depth=3, random_state=0)\n",
        "tree_models.fit(X2_train['hour_y'].to_frame(), y2_train)\n",
        "X2_train['waktu_tree']=tree_models.predict_proba(X2_train['hour_y'].to_frame())[:,1] \n",
        "X2_train.drop(columns=['hour_y'],inplace=True)\n",
        "\n",
        "X2_test['waktu_tree'] =tree_models.predict_proba(X2_test['hour_y'].to_frame())[:,1]\n",
        "X2_test.drop(columns=['hour_y'],inplace=True)"
      ],
      "execution_count": null,
      "outputs": []
    },
    {
      "cell_type": "code",
      "metadata": {
        "id": "aG6XY4DfX0-Y"
      },
      "source": [
        "smt1 = SMOTE(random_state=0)\n",
        "X2_train_SMOTE, y2_train_SMOTE = smt1.fit_sample(X2_train, y2_train)"
      ],
      "execution_count": null,
      "outputs": []
    },
    {
      "cell_type": "code",
      "metadata": {
        "colab": {
          "base_uri": "https://localhost:8080/"
        },
        "id": "WTxQCOa2ffIY",
        "outputId": "2b44d517-73cb-44f1-91dd-50a02d00aa32"
      },
      "source": [
        "for i,j in enumerate(classifier1):\n",
        "  j.fit(X2_train_SMOTE, y2_train_SMOTE)\n",
        "  y_pred = j.predict(X2_test.values)\n",
        "  efwan = f1_score(y2_test,y_pred, average='macro')\n",
        "  print(f\"{classifier1nama[i]}: {efwan}\")"
      ],
      "execution_count": null,
      "outputs": [
        {
          "output_type": "stream",
          "text": [
            "rf: 0.7443751890097512\n",
            "xgb: 0.7686983823122631\n",
            "lr: 0.7610582399243434\n",
            "nb: 0.7567064805192438\n",
            "knn: 0.7250405828020137\n",
            "svm: 0.767606560829845\n"
          ],
          "name": "stdout"
        }
      ]
    },
    {
      "cell_type": "code",
      "metadata": {
        "colab": {
          "base_uri": "https://localhost:8080/"
        },
        "id": "wuL5w8wPgYOm",
        "outputId": "d0f67641-cb27-4dd9-aafe-0c376a1c9f55"
      },
      "source": [
        "for i,j in enumerate(classifier1):\n",
        "  j.fit(X2_train, y2_train)\n",
        "  y_pred = j.predict(X2_test)\n",
        "  efwan = f1_score(y2_test,y_pred, average='macro')\n",
        "  print(f\"{classifier1nama[i]}: {efwan}\")"
      ],
      "execution_count": null,
      "outputs": [
        {
          "output_type": "stream",
          "text": [
            "rf: 0.7592046697432395\n",
            "xgb: 0.7674338226254867\n",
            "lr: 0.7670416263512416\n",
            "nb: 0.7571682464077849\n",
            "knn: 0.7389464835624681\n",
            "svm: 0.767606560829845\n"
          ],
          "name": "stdout"
        }
      ]
    },
    {
      "cell_type": "code",
      "metadata": {
        "colab": {
          "base_uri": "https://localhost:8080/"
        },
        "id": "psFuDwtGkrSb",
        "outputId": "7a891244-8aef-4596-fb46-86576197f1d7"
      },
      "source": [
        "param_test = {'max_depth':[2,3,5,7,8,9], 'min_samples_split':[3,5,7,9,11]}\n",
        "gsearch = GridSearchCV(estimator = RandomForestClassifier(n_estimators=100, class_weight='balanced', random_state=7), param_grid = param_test, scoring='f1_macro',n_jobs=-1, cv=5)\n",
        "gsearch.fit(X2_train, y2_train)\n",
        "gsearch.cv_results_['mean_test_score'], gsearch.cv_results_['params'], gsearch.best_params_, gsearch.best_score_"
      ],
      "execution_count": null,
      "outputs": [
        {
          "output_type": "execute_result",
          "data": {
            "text/plain": [
              "(array([0.76245331, 0.76245331, 0.76245331, 0.76245331, 0.76245331,\n",
              "        0.76254613, 0.76254613, 0.76254613, 0.76254613, 0.76254613,\n",
              "        0.76257054, 0.76257054, 0.76260398, 0.76260398, 0.76260398,\n",
              "        0.76349492, 0.76393782, 0.76365383, 0.76317823, 0.76430652,\n",
              "        0.76466207, 0.76449417, 0.76495088, 0.76496812, 0.76394621,\n",
              "        0.76454311, 0.76488354, 0.76502749, 0.7652528 , 0.76498044]),\n",
              " [{'max_depth': 2, 'min_samples_split': 3},\n",
              "  {'max_depth': 2, 'min_samples_split': 5},\n",
              "  {'max_depth': 2, 'min_samples_split': 7},\n",
              "  {'max_depth': 2, 'min_samples_split': 9},\n",
              "  {'max_depth': 2, 'min_samples_split': 11},\n",
              "  {'max_depth': 3, 'min_samples_split': 3},\n",
              "  {'max_depth': 3, 'min_samples_split': 5},\n",
              "  {'max_depth': 3, 'min_samples_split': 7},\n",
              "  {'max_depth': 3, 'min_samples_split': 9},\n",
              "  {'max_depth': 3, 'min_samples_split': 11},\n",
              "  {'max_depth': 5, 'min_samples_split': 3},\n",
              "  {'max_depth': 5, 'min_samples_split': 5},\n",
              "  {'max_depth': 5, 'min_samples_split': 7},\n",
              "  {'max_depth': 5, 'min_samples_split': 9},\n",
              "  {'max_depth': 5, 'min_samples_split': 11},\n",
              "  {'max_depth': 7, 'min_samples_split': 3},\n",
              "  {'max_depth': 7, 'min_samples_split': 5},\n",
              "  {'max_depth': 7, 'min_samples_split': 7},\n",
              "  {'max_depth': 7, 'min_samples_split': 9},\n",
              "  {'max_depth': 7, 'min_samples_split': 11},\n",
              "  {'max_depth': 8, 'min_samples_split': 3},\n",
              "  {'max_depth': 8, 'min_samples_split': 5},\n",
              "  {'max_depth': 8, 'min_samples_split': 7},\n",
              "  {'max_depth': 8, 'min_samples_split': 9},\n",
              "  {'max_depth': 8, 'min_samples_split': 11},\n",
              "  {'max_depth': 9, 'min_samples_split': 3},\n",
              "  {'max_depth': 9, 'min_samples_split': 5},\n",
              "  {'max_depth': 9, 'min_samples_split': 7},\n",
              "  {'max_depth': 9, 'min_samples_split': 9},\n",
              "  {'max_depth': 9, 'min_samples_split': 11}],\n",
              " {'max_depth': 9, 'min_samples_split': 9},\n",
              " 0.7652528016848352)"
            ]
          },
          "metadata": {
            "tags": []
          },
          "execution_count": 42
        }
      ]
    },
    {
      "cell_type": "code",
      "metadata": {
        "colab": {
          "base_uri": "https://localhost:8080/"
        },
        "id": "xGldb3CfnPUh",
        "outputId": "5bff9b54-380a-4251-8c5b-64a3b2305f74"
      },
      "source": [
        "param_test2r = {'min_samples_leaf':[7,9,11,13]}\n",
        "gsearch2r = GridSearchCV(estimator = RandomForestClassifier(n_estimators=100,max_depth= 9, min_samples_split= 9, class_weight='balanced', random_state=7), param_grid = param_test2r, scoring='f1_macro',n_jobs=-1, cv=5)\n",
        "gsearch2r.fit(X2_train, y2_train)\n",
        "gsearch2r.cv_results_['mean_test_score'], gsearch2r.cv_results_['params'], gsearch2r.best_params_, gsearch2r.best_score_"
      ],
      "execution_count": null,
      "outputs": [
        {
          "output_type": "execute_result",
          "data": {
            "text/plain": [
              "(array([0.76515109, 0.76474921, 0.76524957, 0.76487808]),\n",
              " [{'min_samples_leaf': 7},\n",
              "  {'min_samples_leaf': 9},\n",
              "  {'min_samples_leaf': 11},\n",
              "  {'min_samples_leaf': 13}],\n",
              " {'min_samples_leaf': 11},\n",
              " 0.765249566309137)"
            ]
          },
          "metadata": {
            "tags": []
          },
          "execution_count": 47
        }
      ]
    },
    {
      "cell_type": "code",
      "metadata": {
        "id": "QNpIQCI5oQOC"
      },
      "source": [
        "rf2 = RandomForestClassifier(min_samples_split=9, max_depth=9, n_estimators=100,min_samples_leaf= 11 , class_weight='balanced', random_state=7)"
      ],
      "execution_count": null,
      "outputs": []
    },
    {
      "cell_type": "code",
      "metadata": {
        "colab": {
          "base_uri": "https://localhost:8080/"
        },
        "id": "It80QIjwoWaK",
        "outputId": "e80a0158-8b1a-480b-950d-5ecb078ea1c2"
      },
      "source": [
        "rf2.fit(X2_train, y2_train)\n",
        "y_pred = rf2.predict(X2_test)\n",
        "print('rf tuned :', f1_score(y2_test,y_pred, average='macro'))"
      ],
      "execution_count": null,
      "outputs": [
        {
          "output_type": "stream",
          "text": [
            "rf tuned : 0.7680263500415095\n"
          ],
          "name": "stdout"
        }
      ]
    },
    {
      "cell_type": "markdown",
      "metadata": {
        "id": "NrHLxPQ8bGL6"
      },
      "source": [
        "### Predict Test data"
      ]
    },
    {
      "cell_type": "markdown",
      "metadata": {
        "id": "Phr2LCv2bYM1"
      },
      "source": [
        "#### a) Predict test data (without alerts information)"
      ]
    },
    {
      "cell_type": "code",
      "metadata": {
        "id": "ZJkt-GFjaifo"
      },
      "source": [
        "data_testt_non1 = data_testt_non1.drop(columns=['index','s2','day_week','lat','long','lookup1'])\n",
        "data_testt_non1 = pd.get_dummies(data=data_testt_non1, columns=['Cluster'], drop_first=True)\n",
        "data_testt_non1['waktu_tree'] = tree_model.predict_proba(data_testt_non1['hour'].to_frame())[:,1]\n",
        "data_testt_non1.drop(columns=['hour'],inplace=True)"
      ],
      "execution_count": null,
      "outputs": []
    },
    {
      "cell_type": "code",
      "metadata": {
        "id": "en_uQc3Wd3g5"
      },
      "source": [
        "rf1.fit(X1_train_SMOTE, y1_train_SMOTE)\n",
        "s2non_uji = rf1.predict(data_testt_non1)\n",
        "s2non_uji = pd.DataFrame(s2non_uji,columns=['Labels'],index=data_testt_non1.index)\n",
        "s2non_uji['Labels'] = s2non_uji['Labels'].map({1:'True',0:'False'})"
      ],
      "execution_count": null,
      "outputs": []
    },
    {
      "cell_type": "code",
      "metadata": {
        "colab": {
          "base_uri": "https://localhost:8080/",
          "height": 206
        },
        "id": "0YYfI-EebjiQ",
        "outputId": "772da4df-e756-450d-f816-d48255a432bc"
      },
      "source": [
        "s2non_uji.head()"
      ],
      "execution_count": null,
      "outputs": [
        {
          "output_type": "execute_result",
          "data": {
            "text/html": [
              "<div>\n",
              "<style scoped>\n",
              "    .dataframe tbody tr th:only-of-type {\n",
              "        vertical-align: middle;\n",
              "    }\n",
              "\n",
              "    .dataframe tbody tr th {\n",
              "        vertical-align: top;\n",
              "    }\n",
              "\n",
              "    .dataframe thead th {\n",
              "        text-align: right;\n",
              "    }\n",
              "</style>\n",
              "<table border=\"1\" class=\"dataframe\">\n",
              "  <thead>\n",
              "    <tr style=\"text-align: right;\">\n",
              "      <th></th>\n",
              "      <th>Labels</th>\n",
              "    </tr>\n",
              "  </thead>\n",
              "  <tbody>\n",
              "    <tr>\n",
              "      <th>0</th>\n",
              "      <td>True</td>\n",
              "    </tr>\n",
              "    <tr>\n",
              "      <th>2</th>\n",
              "      <td>False</td>\n",
              "    </tr>\n",
              "    <tr>\n",
              "      <th>3</th>\n",
              "      <td>True</td>\n",
              "    </tr>\n",
              "    <tr>\n",
              "      <th>4</th>\n",
              "      <td>False</td>\n",
              "    </tr>\n",
              "    <tr>\n",
              "      <th>5</th>\n",
              "      <td>True</td>\n",
              "    </tr>\n",
              "  </tbody>\n",
              "</table>\n",
              "</div>"
            ],
            "text/plain": [
              "  Labels\n",
              "0   True\n",
              "2  False\n",
              "3   True\n",
              "4  False\n",
              "5   True"
            ]
          },
          "metadata": {
            "tags": []
          },
          "execution_count": 38
        }
      ]
    },
    {
      "cell_type": "markdown",
      "metadata": {
        "id": "aRfoiGtmbjwr"
      },
      "source": [
        "#### b) Predict test data (with alerts information)"
      ]
    },
    {
      "cell_type": "code",
      "metadata": {
        "id": "oek3SAz-bmch"
      },
      "source": [
        "s2 = s2.drop(columns=['index','lat','long'])\n",
        "s2['magvar'] = s2['magvar'].apply(lambda x : mag(x))\n",
        "s2 = pd.get_dummies(data=s2, columns=['Cluster','magvar','type'], drop_first=True)\n",
        "s2['waktu_tree'] = tree_models.predict_proba(s2['hour_y'].to_frame())[:,1]\n",
        "s2.drop(columns=['hour_y'],inplace=True)"
      ],
      "execution_count": null,
      "outputs": []
    },
    {
      "cell_type": "code",
      "metadata": {
        "id": "mNHzaRCKgxpy"
      },
      "source": [
        "rf1.fit(X2_train_SMOTE, y2_train_SMOTE)\n",
        "y_uji = rf1.predict(s2)\n",
        "s2_uji = pd.DataFrame(y_uji,columns=['Labels'],index=s2.index)\n",
        "s2_uji['Labels'] = s2_uji['Labels'].map({1:'True',0:'False'})"
      ],
      "execution_count": null,
      "outputs": []
    },
    {
      "cell_type": "code",
      "metadata": {
        "colab": {
          "base_uri": "https://localhost:8080/",
          "height": 206
        },
        "id": "ARNaPRE-g66b",
        "outputId": "200e506b-b27f-45fb-e938-c2875c60316d"
      },
      "source": [
        "s2_uji.head()"
      ],
      "execution_count": null,
      "outputs": [
        {
          "output_type": "execute_result",
          "data": {
            "text/html": [
              "<div>\n",
              "<style scoped>\n",
              "    .dataframe tbody tr th:only-of-type {\n",
              "        vertical-align: middle;\n",
              "    }\n",
              "\n",
              "    .dataframe tbody tr th {\n",
              "        vertical-align: top;\n",
              "    }\n",
              "\n",
              "    .dataframe thead th {\n",
              "        text-align: right;\n",
              "    }\n",
              "</style>\n",
              "<table border=\"1\" class=\"dataframe\">\n",
              "  <thead>\n",
              "    <tr style=\"text-align: right;\">\n",
              "      <th></th>\n",
              "      <th>Labels</th>\n",
              "    </tr>\n",
              "  </thead>\n",
              "  <tbody>\n",
              "    <tr>\n",
              "      <th>1</th>\n",
              "      <td>True</td>\n",
              "    </tr>\n",
              "    <tr>\n",
              "      <th>7</th>\n",
              "      <td>True</td>\n",
              "    </tr>\n",
              "    <tr>\n",
              "      <th>8</th>\n",
              "      <td>True</td>\n",
              "    </tr>\n",
              "    <tr>\n",
              "      <th>18</th>\n",
              "      <td>True</td>\n",
              "    </tr>\n",
              "    <tr>\n",
              "      <th>38</th>\n",
              "      <td>True</td>\n",
              "    </tr>\n",
              "  </tbody>\n",
              "</table>\n",
              "</div>"
            ],
            "text/plain": [
              "   Labels\n",
              "1    True\n",
              "7    True\n",
              "8    True\n",
              "18   True\n",
              "38   True"
            ]
          },
          "metadata": {
            "tags": []
          },
          "execution_count": 41
        }
      ]
    },
    {
      "cell_type": "markdown",
      "metadata": {
        "id": "HEWpy8MXhLjZ"
      },
      "source": [
        "#### c) Combine :)"
      ]
    },
    {
      "cell_type": "code",
      "metadata": {
        "id": "R3kCxIeIhO9U"
      },
      "source": [
        "aye = s2_uji.combine_first(s2non_uji)\n",
        "ids = pd.read_csv('/content/drive/MyDrive/Colab Notebooks/dsw/data_test.csv')\n",
        "aye['Ids'] = ids['Ids']\n",
        "aye = aye.reindex(columns=['Ids','Labels'])"
      ],
      "execution_count": null,
      "outputs": []
    },
    {
      "cell_type": "code",
      "metadata": {
        "colab": {
          "base_uri": "https://localhost:8080/"
        },
        "id": "YO7ipGy_hnjl",
        "outputId": "c053289e-d32f-4146-8a40-f56b6464e187"
      },
      "source": [
        "aye['Labels'].value_counts()"
      ],
      "execution_count": null,
      "outputs": [
        {
          "output_type": "execute_result",
          "data": {
            "text/plain": [
              "True     9419\n",
              "False    4422\n",
              "Name: Labels, dtype: int64"
            ]
          },
          "metadata": {
            "tags": []
          },
          "execution_count": 43
        }
      ]
    },
    {
      "cell_type": "code",
      "metadata": {
        "id": "uOJ2KUuahntp"
      },
      "source": [
        "#aye.to_csv('thankyou.csv', index=False)"
      ],
      "execution_count": null,
      "outputs": []
    }
  ]
}